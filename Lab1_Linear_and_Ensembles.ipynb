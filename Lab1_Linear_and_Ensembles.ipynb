{
 "cells": [
  {
   "cell_type": "markdown",
   "metadata": {
    "nbgrader": {
     "grade": false,
     "grade_id": "cell-86e0de040aac317a",
     "locked": true,
     "schema_version": 2,
     "solution": false
    }
   },
   "source": [
    "# Лабораторная работа №1. \n",
    "\n",
    "Данная лабораторная работа состоит из нескольких блоков. В каждом блоке вам предлагается произвести некоторые манипуляции с данными и сделать некоторые выводы.\n",
    "* Задавать вопросы можно и нужно.\n",
    "* Списывать не нужно. Работы, которые были списаны обнуляются.\n",
    "* Блоки выполняются последовательно и оцениваются отдельно."
   ]
  },
  {
   "cell_type": "markdown",
   "metadata": {
    "nbgrader": {
     "grade": false,
     "grade_id": "cell-512ba712fc0fc065",
     "locked": true,
     "schema_version": 2,
     "solution": false
    }
   },
   "source": [
    "## Часть 1. Работа с моделями и ансамблями моделей в задачи классификации."
   ]
  },
  {
   "cell_type": "markdown",
   "metadata": {
    "nbgrader": {
     "grade": false,
     "grade_id": "cell-b656a4266174b009",
     "locked": true,
     "schema_version": 2,
     "solution": false
    }
   },
   "source": [
    "### 1. Чтение данных.\n",
    "Воспользуемся [датасетом](https://archive.ics.uci.edu/ml/datasets/Statlog+%28Vehicle+Silhouettes%29), в котором описываются различные автомобили. Будем решать задачу многоклассовой ($k=4$) классификации.\n",
    "Для удобства, датасет уже преобразован в удобный формат."
   ]
  },
  {
   "cell_type": "code",
   "execution_count": 1,
   "metadata": {
    "nbgrader": {
     "grade": false,
     "grade_id": "cell-eebac6bfdf73d0bc",
     "locked": true,
     "schema_version": 2,
     "solution": false
    }
   },
   "outputs": [
    {
     "name": "stdout",
     "output_type": "stream",
     "text": [
      "(846, 19) (846,)\n",
      "(549, 19) (549,) (297, 19) (297,)\n"
     ]
    }
   ],
   "source": [
    "import pandas as pd\n",
    "import numpy as np\n",
    "import matplotlib.pyplot as plt\n",
    "from sklearn.model_selection import train_test_split\n",
    "\n",
    "dataset = pd.read_csv('car_data.csv', delimiter=',', header=None).values\n",
    "data = dataset[:, :-1].astype(int)\n",
    "target = dataset[:, -1]\n",
    "\n",
    "print(data.shape, target.shape)\n",
    "\n",
    "X_train, X_test, y_train, y_test = train_test_split(data, target, test_size=0.35)\n",
    "print(X_train.shape, y_train.shape, X_test.shape, y_test.shape)"
   ]
  },
  {
   "cell_type": "markdown",
   "metadata": {
    "nbgrader": {
     "grade": false,
     "grade_id": "cell-88b1a0f688568f2c",
     "locked": true,
     "schema_version": 2,
     "solution": false
    }
   },
   "source": [
    "Для первичного анализа может быть полезна библиотека `pandas`. Преобразуем `train` выборку в `pd.DataFrame`."
   ]
  },
  {
   "cell_type": "code",
   "execution_count": 2,
   "metadata": {},
   "outputs": [
    {
     "data": {
      "text/html": [
       "<div>\n",
       "<style scoped>\n",
       "    .dataframe tbody tr th:only-of-type {\n",
       "        vertical-align: middle;\n",
       "    }\n",
       "\n",
       "    .dataframe tbody tr th {\n",
       "        vertical-align: top;\n",
       "    }\n",
       "\n",
       "    .dataframe thead th {\n",
       "        text-align: right;\n",
       "    }\n",
       "</style>\n",
       "<table border=\"1\" class=\"dataframe\">\n",
       "  <thead>\n",
       "    <tr style=\"text-align: right;\">\n",
       "      <th></th>\n",
       "      <th>0</th>\n",
       "      <th>1</th>\n",
       "      <th>2</th>\n",
       "      <th>3</th>\n",
       "      <th>4</th>\n",
       "      <th>5</th>\n",
       "      <th>6</th>\n",
       "      <th>7</th>\n",
       "      <th>8</th>\n",
       "      <th>9</th>\n",
       "      <th>10</th>\n",
       "      <th>11</th>\n",
       "      <th>12</th>\n",
       "      <th>13</th>\n",
       "      <th>14</th>\n",
       "      <th>15</th>\n",
       "      <th>16</th>\n",
       "      <th>17</th>\n",
       "      <th>18</th>\n",
       "    </tr>\n",
       "  </thead>\n",
       "  <tbody>\n",
       "    <tr>\n",
       "      <th>0</th>\n",
       "      <td>539</td>\n",
       "      <td>109</td>\n",
       "      <td>55</td>\n",
       "      <td>96</td>\n",
       "      <td>191</td>\n",
       "      <td>57</td>\n",
       "      <td>6</td>\n",
       "      <td>241</td>\n",
       "      <td>28</td>\n",
       "      <td>26</td>\n",
       "      <td>170</td>\n",
       "      <td>267</td>\n",
       "      <td>857</td>\n",
       "      <td>242</td>\n",
       "      <td>85</td>\n",
       "      <td>8</td>\n",
       "      <td>9</td>\n",
       "      <td>184</td>\n",
       "      <td>184</td>\n",
       "    </tr>\n",
       "    <tr>\n",
       "      <th>1</th>\n",
       "      <td>70</td>\n",
       "      <td>96</td>\n",
       "      <td>55</td>\n",
       "      <td>98</td>\n",
       "      <td>161</td>\n",
       "      <td>54</td>\n",
       "      <td>10</td>\n",
       "      <td>215</td>\n",
       "      <td>31</td>\n",
       "      <td>24</td>\n",
       "      <td>175</td>\n",
       "      <td>226</td>\n",
       "      <td>683</td>\n",
       "      <td>221</td>\n",
       "      <td>76</td>\n",
       "      <td>3</td>\n",
       "      <td>6</td>\n",
       "      <td>185</td>\n",
       "      <td>193</td>\n",
       "    </tr>\n",
       "    <tr>\n",
       "      <th>2</th>\n",
       "      <td>837</td>\n",
       "      <td>94</td>\n",
       "      <td>46</td>\n",
       "      <td>77</td>\n",
       "      <td>169</td>\n",
       "      <td>60</td>\n",
       "      <td>8</td>\n",
       "      <td>158</td>\n",
       "      <td>42</td>\n",
       "      <td>20</td>\n",
       "      <td>148</td>\n",
       "      <td>181</td>\n",
       "      <td>373</td>\n",
       "      <td>181</td>\n",
       "      <td>67</td>\n",
       "      <td>12</td>\n",
       "      <td>2</td>\n",
       "      <td>193</td>\n",
       "      <td>199</td>\n",
       "    </tr>\n",
       "    <tr>\n",
       "      <th>3</th>\n",
       "      <td>378</td>\n",
       "      <td>82</td>\n",
       "      <td>36</td>\n",
       "      <td>54</td>\n",
       "      <td>117</td>\n",
       "      <td>53</td>\n",
       "      <td>7</td>\n",
       "      <td>125</td>\n",
       "      <td>54</td>\n",
       "      <td>18</td>\n",
       "      <td>126</td>\n",
       "      <td>146</td>\n",
       "      <td>229</td>\n",
       "      <td>128</td>\n",
       "      <td>78</td>\n",
       "      <td>1</td>\n",
       "      <td>5</td>\n",
       "      <td>180</td>\n",
       "      <td>184</td>\n",
       "    </tr>\n",
       "    <tr>\n",
       "      <th>4</th>\n",
       "      <td>133</td>\n",
       "      <td>98</td>\n",
       "      <td>39</td>\n",
       "      <td>68</td>\n",
       "      <td>121</td>\n",
       "      <td>49</td>\n",
       "      <td>7</td>\n",
       "      <td>134</td>\n",
       "      <td>51</td>\n",
       "      <td>18</td>\n",
       "      <td>142</td>\n",
       "      <td>164</td>\n",
       "      <td>261</td>\n",
       "      <td>134</td>\n",
       "      <td>75</td>\n",
       "      <td>4</td>\n",
       "      <td>1</td>\n",
       "      <td>186</td>\n",
       "      <td>186</td>\n",
       "    </tr>\n",
       "    <tr>\n",
       "      <th>5</th>\n",
       "      <td>326</td>\n",
       "      <td>106</td>\n",
       "      <td>49</td>\n",
       "      <td>96</td>\n",
       "      <td>201</td>\n",
       "      <td>61</td>\n",
       "      <td>10</td>\n",
       "      <td>181</td>\n",
       "      <td>36</td>\n",
       "      <td>21</td>\n",
       "      <td>158</td>\n",
       "      <td>197</td>\n",
       "      <td>494</td>\n",
       "      <td>180</td>\n",
       "      <td>62</td>\n",
       "      <td>19</td>\n",
       "      <td>15</td>\n",
       "      <td>202</td>\n",
       "      <td>209</td>\n",
       "    </tr>\n",
       "    <tr>\n",
       "      <th>6</th>\n",
       "      <td>15</td>\n",
       "      <td>96</td>\n",
       "      <td>55</td>\n",
       "      <td>103</td>\n",
       "      <td>201</td>\n",
       "      <td>65</td>\n",
       "      <td>9</td>\n",
       "      <td>204</td>\n",
       "      <td>32</td>\n",
       "      <td>23</td>\n",
       "      <td>166</td>\n",
       "      <td>227</td>\n",
       "      <td>624</td>\n",
       "      <td>246</td>\n",
       "      <td>74</td>\n",
       "      <td>6</td>\n",
       "      <td>2</td>\n",
       "      <td>186</td>\n",
       "      <td>194</td>\n",
       "    </tr>\n",
       "    <tr>\n",
       "      <th>7</th>\n",
       "      <td>692</td>\n",
       "      <td>108</td>\n",
       "      <td>51</td>\n",
       "      <td>100</td>\n",
       "      <td>206</td>\n",
       "      <td>63</td>\n",
       "      <td>10</td>\n",
       "      <td>196</td>\n",
       "      <td>34</td>\n",
       "      <td>23</td>\n",
       "      <td>159</td>\n",
       "      <td>214</td>\n",
       "      <td>576</td>\n",
       "      <td>201</td>\n",
       "      <td>65</td>\n",
       "      <td>7</td>\n",
       "      <td>16</td>\n",
       "      <td>194</td>\n",
       "      <td>205</td>\n",
       "    </tr>\n",
       "    <tr>\n",
       "      <th>8</th>\n",
       "      <td>381</td>\n",
       "      <td>106</td>\n",
       "      <td>54</td>\n",
       "      <td>100</td>\n",
       "      <td>227</td>\n",
       "      <td>67</td>\n",
       "      <td>4</td>\n",
       "      <td>250</td>\n",
       "      <td>27</td>\n",
       "      <td>27</td>\n",
       "      <td>162</td>\n",
       "      <td>280</td>\n",
       "      <td>923</td>\n",
       "      <td>262</td>\n",
       "      <td>88</td>\n",
       "      <td>5</td>\n",
       "      <td>11</td>\n",
       "      <td>182</td>\n",
       "      <td>182</td>\n",
       "    </tr>\n",
       "    <tr>\n",
       "      <th>9</th>\n",
       "      <td>43</td>\n",
       "      <td>93</td>\n",
       "      <td>37</td>\n",
       "      <td>76</td>\n",
       "      <td>183</td>\n",
       "      <td>63</td>\n",
       "      <td>8</td>\n",
       "      <td>164</td>\n",
       "      <td>40</td>\n",
       "      <td>20</td>\n",
       "      <td>134</td>\n",
       "      <td>191</td>\n",
       "      <td>405</td>\n",
       "      <td>139</td>\n",
       "      <td>67</td>\n",
       "      <td>4</td>\n",
       "      <td>7</td>\n",
       "      <td>192</td>\n",
       "      <td>197</td>\n",
       "    </tr>\n",
       "    <tr>\n",
       "      <th>10</th>\n",
       "      <td>714</td>\n",
       "      <td>94</td>\n",
       "      <td>44</td>\n",
       "      <td>70</td>\n",
       "      <td>186</td>\n",
       "      <td>72</td>\n",
       "      <td>8</td>\n",
       "      <td>153</td>\n",
       "      <td>42</td>\n",
       "      <td>19</td>\n",
       "      <td>144</td>\n",
       "      <td>171</td>\n",
       "      <td>361</td>\n",
       "      <td>178</td>\n",
       "      <td>67</td>\n",
       "      <td>7</td>\n",
       "      <td>2</td>\n",
       "      <td>199</td>\n",
       "      <td>206</td>\n",
       "    </tr>\n",
       "    <tr>\n",
       "      <th>11</th>\n",
       "      <td>670</td>\n",
       "      <td>95</td>\n",
       "      <td>51</td>\n",
       "      <td>96</td>\n",
       "      <td>196</td>\n",
       "      <td>63</td>\n",
       "      <td>9</td>\n",
       "      <td>190</td>\n",
       "      <td>35</td>\n",
       "      <td>22</td>\n",
       "      <td>161</td>\n",
       "      <td>208</td>\n",
       "      <td>543</td>\n",
       "      <td>235</td>\n",
       "      <td>68</td>\n",
       "      <td>13</td>\n",
       "      <td>0</td>\n",
       "      <td>191</td>\n",
       "      <td>198</td>\n",
       "    </tr>\n",
       "    <tr>\n",
       "      <th>12</th>\n",
       "      <td>605</td>\n",
       "      <td>97</td>\n",
       "      <td>53</td>\n",
       "      <td>105</td>\n",
       "      <td>225</td>\n",
       "      <td>71</td>\n",
       "      <td>12</td>\n",
       "      <td>221</td>\n",
       "      <td>30</td>\n",
       "      <td>25</td>\n",
       "      <td>167</td>\n",
       "      <td>226</td>\n",
       "      <td>713</td>\n",
       "      <td>202</td>\n",
       "      <td>70</td>\n",
       "      <td>3</td>\n",
       "      <td>20</td>\n",
       "      <td>186</td>\n",
       "      <td>200</td>\n",
       "    </tr>\n",
       "    <tr>\n",
       "      <th>13</th>\n",
       "      <td>370</td>\n",
       "      <td>96</td>\n",
       "      <td>41</td>\n",
       "      <td>77</td>\n",
       "      <td>177</td>\n",
       "      <td>64</td>\n",
       "      <td>5</td>\n",
       "      <td>177</td>\n",
       "      <td>36</td>\n",
       "      <td>21</td>\n",
       "      <td>134</td>\n",
       "      <td>205</td>\n",
       "      <td>485</td>\n",
       "      <td>148</td>\n",
       "      <td>74</td>\n",
       "      <td>0</td>\n",
       "      <td>4</td>\n",
       "      <td>196</td>\n",
       "      <td>198</td>\n",
       "    </tr>\n",
       "    <tr>\n",
       "      <th>14</th>\n",
       "      <td>161</td>\n",
       "      <td>107</td>\n",
       "      <td>52</td>\n",
       "      <td>101</td>\n",
       "      <td>218</td>\n",
       "      <td>64</td>\n",
       "      <td>11</td>\n",
       "      <td>202</td>\n",
       "      <td>33</td>\n",
       "      <td>23</td>\n",
       "      <td>164</td>\n",
       "      <td>219</td>\n",
       "      <td>610</td>\n",
       "      <td>192</td>\n",
       "      <td>65</td>\n",
       "      <td>17</td>\n",
       "      <td>2</td>\n",
       "      <td>197</td>\n",
       "      <td>206</td>\n",
       "    </tr>\n",
       "  </tbody>\n",
       "</table>\n",
       "</div>"
      ],
      "text/plain": [
       "     0    1   2    3    4   5   6    7   8   9    10   11   12   13  14  15  \\\n",
       "0   539  109  55   96  191  57   6  241  28  26  170  267  857  242  85   8   \n",
       "1    70   96  55   98  161  54  10  215  31  24  175  226  683  221  76   3   \n",
       "2   837   94  46   77  169  60   8  158  42  20  148  181  373  181  67  12   \n",
       "3   378   82  36   54  117  53   7  125  54  18  126  146  229  128  78   1   \n",
       "4   133   98  39   68  121  49   7  134  51  18  142  164  261  134  75   4   \n",
       "5   326  106  49   96  201  61  10  181  36  21  158  197  494  180  62  19   \n",
       "6    15   96  55  103  201  65   9  204  32  23  166  227  624  246  74   6   \n",
       "7   692  108  51  100  206  63  10  196  34  23  159  214  576  201  65   7   \n",
       "8   381  106  54  100  227  67   4  250  27  27  162  280  923  262  88   5   \n",
       "9    43   93  37   76  183  63   8  164  40  20  134  191  405  139  67   4   \n",
       "10  714   94  44   70  186  72   8  153  42  19  144  171  361  178  67   7   \n",
       "11  670   95  51   96  196  63   9  190  35  22  161  208  543  235  68  13   \n",
       "12  605   97  53  105  225  71  12  221  30  25  167  226  713  202  70   3   \n",
       "13  370   96  41   77  177  64   5  177  36  21  134  205  485  148  74   0   \n",
       "14  161  107  52  101  218  64  11  202  33  23  164  219  610  192  65  17   \n",
       "\n",
       "    16   17   18  \n",
       "0    9  184  184  \n",
       "1    6  185  193  \n",
       "2    2  193  199  \n",
       "3    5  180  184  \n",
       "4    1  186  186  \n",
       "5   15  202  209  \n",
       "6    2  186  194  \n",
       "7   16  194  205  \n",
       "8   11  182  182  \n",
       "9    7  192  197  \n",
       "10   2  199  206  \n",
       "11   0  191  198  \n",
       "12  20  186  200  \n",
       "13   4  196  198  \n",
       "14   2  197  206  "
      ]
     },
     "execution_count": 2,
     "metadata": {},
     "output_type": "execute_result"
    }
   ],
   "source": [
    "X_train_pd = pd.DataFrame(X_train)\n",
    "\n",
    "# First 15 rows of our dataset.\n",
    "X_train_pd.head(15)"
   ]
  },
  {
   "cell_type": "markdown",
   "metadata": {
    "nbgrader": {
     "grade": false,
     "grade_id": "cell-98e7d91d77d65fcf",
     "locked": true,
     "schema_version": 2,
     "solution": false
    }
   },
   "source": [
    "Воспользовавшись методами `describe` и `info` можно получить полезную информацию о датасете."
   ]
  },
  {
   "cell_type": "code",
   "execution_count": 3,
   "metadata": {},
   "outputs": [
    {
     "data": {
      "text/html": [
       "<div>\n",
       "<style scoped>\n",
       "    .dataframe tbody tr th:only-of-type {\n",
       "        vertical-align: middle;\n",
       "    }\n",
       "\n",
       "    .dataframe tbody tr th {\n",
       "        vertical-align: top;\n",
       "    }\n",
       "\n",
       "    .dataframe thead th {\n",
       "        text-align: right;\n",
       "    }\n",
       "</style>\n",
       "<table border=\"1\" class=\"dataframe\">\n",
       "  <thead>\n",
       "    <tr style=\"text-align: right;\">\n",
       "      <th></th>\n",
       "      <th>0</th>\n",
       "      <th>1</th>\n",
       "      <th>2</th>\n",
       "      <th>3</th>\n",
       "      <th>4</th>\n",
       "      <th>5</th>\n",
       "      <th>6</th>\n",
       "      <th>7</th>\n",
       "      <th>8</th>\n",
       "      <th>9</th>\n",
       "      <th>10</th>\n",
       "      <th>11</th>\n",
       "      <th>12</th>\n",
       "      <th>13</th>\n",
       "      <th>14</th>\n",
       "      <th>15</th>\n",
       "      <th>16</th>\n",
       "      <th>17</th>\n",
       "      <th>18</th>\n",
       "    </tr>\n",
       "  </thead>\n",
       "  <tbody>\n",
       "    <tr>\n",
       "      <th>count</th>\n",
       "      <td>549.000000</td>\n",
       "      <td>549.000000</td>\n",
       "      <td>549.000000</td>\n",
       "      <td>549.000000</td>\n",
       "      <td>549.000000</td>\n",
       "      <td>549.000000</td>\n",
       "      <td>549.000000</td>\n",
       "      <td>549.000000</td>\n",
       "      <td>549.000000</td>\n",
       "      <td>549.000000</td>\n",
       "      <td>549.000000</td>\n",
       "      <td>549.000000</td>\n",
       "      <td>549.000000</td>\n",
       "      <td>549.00000</td>\n",
       "      <td>549.000000</td>\n",
       "      <td>549.000000</td>\n",
       "      <td>549.000000</td>\n",
       "      <td>549.000000</td>\n",
       "      <td>549.000000</td>\n",
       "    </tr>\n",
       "    <tr>\n",
       "      <th>mean</th>\n",
       "      <td>412.021858</td>\n",
       "      <td>93.925319</td>\n",
       "      <td>45.085610</td>\n",
       "      <td>82.595628</td>\n",
       "      <td>169.561020</td>\n",
       "      <td>61.551913</td>\n",
       "      <td>8.504554</td>\n",
       "      <td>170.180328</td>\n",
       "      <td>40.579235</td>\n",
       "      <td>20.693989</td>\n",
       "      <td>148.364299</td>\n",
       "      <td>189.744991</td>\n",
       "      <td>446.653916</td>\n",
       "      <td>176.10929</td>\n",
       "      <td>72.333333</td>\n",
       "      <td>6.409836</td>\n",
       "      <td>12.471767</td>\n",
       "      <td>188.954463</td>\n",
       "      <td>195.688525</td>\n",
       "    </tr>\n",
       "    <tr>\n",
       "      <th>std</th>\n",
       "      <td>242.783899</td>\n",
       "      <td>8.133684</td>\n",
       "      <td>6.169589</td>\n",
       "      <td>15.611632</td>\n",
       "      <td>32.730017</td>\n",
       "      <td>7.132706</td>\n",
       "      <td>4.093621</td>\n",
       "      <td>33.145255</td>\n",
       "      <td>7.738165</td>\n",
       "      <td>2.583846</td>\n",
       "      <td>14.478473</td>\n",
       "      <td>31.249009</td>\n",
       "      <td>176.702884</td>\n",
       "      <td>32.44989</td>\n",
       "      <td>7.316116</td>\n",
       "      <td>4.950998</td>\n",
       "      <td>8.845884</td>\n",
       "      <td>6.079741</td>\n",
       "      <td>7.356131</td>\n",
       "    </tr>\n",
       "    <tr>\n",
       "      <th>min</th>\n",
       "      <td>0.000000</td>\n",
       "      <td>76.000000</td>\n",
       "      <td>33.000000</td>\n",
       "      <td>40.000000</td>\n",
       "      <td>104.000000</td>\n",
       "      <td>47.000000</td>\n",
       "      <td>3.000000</td>\n",
       "      <td>112.000000</td>\n",
       "      <td>26.000000</td>\n",
       "      <td>17.000000</td>\n",
       "      <td>118.000000</td>\n",
       "      <td>130.000000</td>\n",
       "      <td>184.000000</td>\n",
       "      <td>109.00000</td>\n",
       "      <td>59.000000</td>\n",
       "      <td>0.000000</td>\n",
       "      <td>0.000000</td>\n",
       "      <td>177.000000</td>\n",
       "      <td>181.000000</td>\n",
       "    </tr>\n",
       "    <tr>\n",
       "      <th>25%</th>\n",
       "      <td>199.000000</td>\n",
       "      <td>88.000000</td>\n",
       "      <td>40.000000</td>\n",
       "      <td>71.000000</td>\n",
       "      <td>143.000000</td>\n",
       "      <td>57.000000</td>\n",
       "      <td>6.000000</td>\n",
       "      <td>148.000000</td>\n",
       "      <td>33.000000</td>\n",
       "      <td>19.000000</td>\n",
       "      <td>137.000000</td>\n",
       "      <td>169.000000</td>\n",
       "      <td>322.000000</td>\n",
       "      <td>151.00000</td>\n",
       "      <td>67.000000</td>\n",
       "      <td>2.000000</td>\n",
       "      <td>6.000000</td>\n",
       "      <td>184.000000</td>\n",
       "      <td>191.000000</td>\n",
       "    </tr>\n",
       "    <tr>\n",
       "      <th>50%</th>\n",
       "      <td>397.000000</td>\n",
       "      <td>93.000000</td>\n",
       "      <td>45.000000</td>\n",
       "      <td>80.000000</td>\n",
       "      <td>169.000000</td>\n",
       "      <td>61.000000</td>\n",
       "      <td>8.000000</td>\n",
       "      <td>158.000000</td>\n",
       "      <td>42.000000</td>\n",
       "      <td>20.000000</td>\n",
       "      <td>146.000000</td>\n",
       "      <td>180.000000</td>\n",
       "      <td>369.000000</td>\n",
       "      <td>175.00000</td>\n",
       "      <td>72.000000</td>\n",
       "      <td>6.000000</td>\n",
       "      <td>11.000000</td>\n",
       "      <td>188.000000</td>\n",
       "      <td>197.000000</td>\n",
       "    </tr>\n",
       "    <tr>\n",
       "      <th>75%</th>\n",
       "      <td>620.000000</td>\n",
       "      <td>100.000000</td>\n",
       "      <td>50.000000</td>\n",
       "      <td>98.000000</td>\n",
       "      <td>195.000000</td>\n",
       "      <td>65.000000</td>\n",
       "      <td>10.000000</td>\n",
       "      <td>201.000000</td>\n",
       "      <td>45.000000</td>\n",
       "      <td>23.000000</td>\n",
       "      <td>160.000000</td>\n",
       "      <td>217.000000</td>\n",
       "      <td>601.000000</td>\n",
       "      <td>199.00000</td>\n",
       "      <td>75.000000</td>\n",
       "      <td>10.000000</td>\n",
       "      <td>18.000000</td>\n",
       "      <td>193.000000</td>\n",
       "      <td>201.000000</td>\n",
       "    </tr>\n",
       "    <tr>\n",
       "      <th>max</th>\n",
       "      <td>844.000000</td>\n",
       "      <td>119.000000</td>\n",
       "      <td>58.000000</td>\n",
       "      <td>112.000000</td>\n",
       "      <td>333.000000</td>\n",
       "      <td>138.000000</td>\n",
       "      <td>52.000000</td>\n",
       "      <td>262.000000</td>\n",
       "      <td>61.000000</td>\n",
       "      <td>28.000000</td>\n",
       "      <td>188.000000</td>\n",
       "      <td>320.000000</td>\n",
       "      <td>987.000000</td>\n",
       "      <td>268.00000</td>\n",
       "      <td>135.000000</td>\n",
       "      <td>22.000000</td>\n",
       "      <td>41.000000</td>\n",
       "      <td>206.000000</td>\n",
       "      <td>211.000000</td>\n",
       "    </tr>\n",
       "  </tbody>\n",
       "</table>\n",
       "</div>"
      ],
      "text/plain": [
       "               0           1           2           3           4           5   \\\n",
       "count  549.000000  549.000000  549.000000  549.000000  549.000000  549.000000   \n",
       "mean   412.021858   93.925319   45.085610   82.595628  169.561020   61.551913   \n",
       "std    242.783899    8.133684    6.169589   15.611632   32.730017    7.132706   \n",
       "min      0.000000   76.000000   33.000000   40.000000  104.000000   47.000000   \n",
       "25%    199.000000   88.000000   40.000000   71.000000  143.000000   57.000000   \n",
       "50%    397.000000   93.000000   45.000000   80.000000  169.000000   61.000000   \n",
       "75%    620.000000  100.000000   50.000000   98.000000  195.000000   65.000000   \n",
       "max    844.000000  119.000000   58.000000  112.000000  333.000000  138.000000   \n",
       "\n",
       "               6           7           8           9           10          11  \\\n",
       "count  549.000000  549.000000  549.000000  549.000000  549.000000  549.000000   \n",
       "mean     8.504554  170.180328   40.579235   20.693989  148.364299  189.744991   \n",
       "std      4.093621   33.145255    7.738165    2.583846   14.478473   31.249009   \n",
       "min      3.000000  112.000000   26.000000   17.000000  118.000000  130.000000   \n",
       "25%      6.000000  148.000000   33.000000   19.000000  137.000000  169.000000   \n",
       "50%      8.000000  158.000000   42.000000   20.000000  146.000000  180.000000   \n",
       "75%     10.000000  201.000000   45.000000   23.000000  160.000000  217.000000   \n",
       "max     52.000000  262.000000   61.000000   28.000000  188.000000  320.000000   \n",
       "\n",
       "               12         13          14          15          16          17  \\\n",
       "count  549.000000  549.00000  549.000000  549.000000  549.000000  549.000000   \n",
       "mean   446.653916  176.10929   72.333333    6.409836   12.471767  188.954463   \n",
       "std    176.702884   32.44989    7.316116    4.950998    8.845884    6.079741   \n",
       "min    184.000000  109.00000   59.000000    0.000000    0.000000  177.000000   \n",
       "25%    322.000000  151.00000   67.000000    2.000000    6.000000  184.000000   \n",
       "50%    369.000000  175.00000   72.000000    6.000000   11.000000  188.000000   \n",
       "75%    601.000000  199.00000   75.000000   10.000000   18.000000  193.000000   \n",
       "max    987.000000  268.00000  135.000000   22.000000   41.000000  206.000000   \n",
       "\n",
       "               18  \n",
       "count  549.000000  \n",
       "mean   195.688525  \n",
       "std      7.356131  \n",
       "min    181.000000  \n",
       "25%    191.000000  \n",
       "50%    197.000000  \n",
       "75%    201.000000  \n",
       "max    211.000000  "
      ]
     },
     "execution_count": 3,
     "metadata": {},
     "output_type": "execute_result"
    }
   ],
   "source": [
    "X_train_pd.describe()"
   ]
  },
  {
   "cell_type": "code",
   "execution_count": 4,
   "metadata": {},
   "outputs": [
    {
     "name": "stdout",
     "output_type": "stream",
     "text": [
      "<class 'pandas.core.frame.DataFrame'>\n",
      "RangeIndex: 549 entries, 0 to 548\n",
      "Data columns (total 19 columns):\n",
      "0     549 non-null int64\n",
      "1     549 non-null int64\n",
      "2     549 non-null int64\n",
      "3     549 non-null int64\n",
      "4     549 non-null int64\n",
      "5     549 non-null int64\n",
      "6     549 non-null int64\n",
      "7     549 non-null int64\n",
      "8     549 non-null int64\n",
      "9     549 non-null int64\n",
      "10    549 non-null int64\n",
      "11    549 non-null int64\n",
      "12    549 non-null int64\n",
      "13    549 non-null int64\n",
      "14    549 non-null int64\n",
      "15    549 non-null int64\n",
      "16    549 non-null int64\n",
      "17    549 non-null int64\n",
      "18    549 non-null int64\n",
      "dtypes: int64(19)\n",
      "memory usage: 81.6 KB\n"
     ]
    }
   ],
   "source": [
    "X_train_pd.info()"
   ]
  },
  {
   "cell_type": "markdown",
   "metadata": {
    "nbgrader": {
     "grade": false,
     "grade_id": "cell-be844269be69c387",
     "locked": true,
     "schema_version": 2,
     "solution": false
    }
   },
   "source": [
    "### 2. Работа с данными, построение модели, анализ ошибки.\n",
    "Выполните следующие манипуляции с данными:"
   ]
  },
  {
   "cell_type": "markdown",
   "metadata": {},
   "source": [
    "#### 2.0. Предобработка данных.\n",
    "* Произведите необходимые (по вашему мнению) манипуляции с данными и объясните их."
   ]
  },
  {
   "cell_type": "code",
   "execution_count": 5,
   "metadata": {
    "nbgrader": {
     "grade": true,
     "grade_id": "cell-a1514aa189a49fca",
     "locked": false,
     "points": 15,
     "schema_version": 2,
     "solution": true
    }
   },
   "outputs": [
    {
     "data": {
      "text/plain": [
       "array([-0.0429047 ,  0.02999314,  0.03631206,  0.03216402,  0.01853744,\n",
       "       -0.0180046 , -0.01366145,  0.04036332, -0.04541742,  0.04294237,\n",
       "        0.02519329,  0.03568605,  0.03818245,  0.04322468, -0.01721895,\n",
       "        0.00666623, -0.01428686,  0.00354504,  0.00755096])"
      ]
     },
     "execution_count": 5,
     "metadata": {},
     "output_type": "execute_result"
    }
   ],
   "source": [
    "### YOUR CODE HERE\n",
    "X_mean = data.mean(axis = 0)\n",
    "X_std  = data.std(axis = 0)\n",
    "X_train = (X_train - X_mean) / X_std\n",
    "X_test  = (X_test  - X_mean) / X_std\n",
    "X_train.mean(axis=0)"
   ]
  },
  {
   "cell_type": "code",
   "execution_count": 6,
   "metadata": {},
   "outputs": [
    {
     "data": {
      "text/plain": [
       "(549,)"
      ]
     },
     "execution_count": 6,
     "metadata": {},
     "output_type": "execute_result"
    }
   ],
   "source": [
    "y_train_pd = pd.DataFrame(y_train)\n",
    "y_test_pd = pd.DataFrame(y_test)\n",
    "y_train_pd[y_train_pd[0] == 'van'] = 0\n",
    "y_train_pd[y_train_pd[0] == 'bus'] = 1\n",
    "y_train_pd[y_train_pd[0] == 'saab'] = 2\n",
    "y_train_pd[y_train_pd[0] == 'opel'] = 3\n",
    "\n",
    "y_test_pd[y_test_pd[0] == 'van'] = 0\n",
    "y_test_pd[y_test_pd[0] == 'bus'] = 1\n",
    "y_test_pd[y_test_pd[0] == 'saab'] = 2\n",
    "y_test_pd[y_test_pd[0] == 'opel'] = 3\n",
    "\n",
    "y_train = y_train_pd.values.squeeze(1)\n",
    "y_test = y_test_pd.values.squeeze(1)\n",
    "y_train.shape"
   ]
  },
  {
   "cell_type": "markdown",
   "metadata": {},
   "source": [
    "#### 2.1. Базовая логистическая регрессия.\n",
    "* Подберите оптимальные параметры логистической регресии с помощью кросс-валидации на train-датасете (е переусердствуйте с подбором, в данной работе не стоит задача найти самую оптимальную модель. Небольшого grid/random search'а хватит).\n",
    "\n",
    "* Постройте график ROC-кривой для данного классификатора (`sklearn.metrics.roc_curve`), оцените точность классификации и f1-score. "
   ]
  },
  {
   "cell_type": "code",
   "execution_count": 7,
   "metadata": {
    "nbgrader": {
     "grade": true,
     "grade_id": "cell-1dd5ad5d0845cbbb",
     "locked": false,
     "points": 5,
     "schema_version": 2,
     "solution": true
    }
   },
   "outputs": [
    {
     "name": "stdout",
     "output_type": "stream",
     "text": [
      "default 0.797979797979798\n"
     ]
    },
    {
     "name": "stderr",
     "output_type": "stream",
     "text": [
      "/opt/anaconda/lib/python3.7/site-packages/sklearn/model_selection/_split.py:2053: FutureWarning: You should specify a value for 'cv' instead of relying on the default value. The default value will change from 3 to 5 in version 0.22.\n",
      "  warnings.warn(CV_WARNING, FutureWarning)\n",
      "/opt/anaconda/lib/python3.7/site-packages/sklearn/linear_model/sag.py:334: ConvergenceWarning: The max_iter was reached which means the coef_ did not converge\n",
      "  \"the coef_ did not converge\", ConvergenceWarning)\n",
      "/opt/anaconda/lib/python3.7/site-packages/sklearn/linear_model/sag.py:334: ConvergenceWarning: The max_iter was reached which means the coef_ did not converge\n",
      "  \"the coef_ did not converge\", ConvergenceWarning)\n",
      "/opt/anaconda/lib/python3.7/site-packages/sklearn/linear_model/sag.py:334: ConvergenceWarning: The max_iter was reached which means the coef_ did not converge\n",
      "  \"the coef_ did not converge\", ConvergenceWarning)\n",
      "/opt/anaconda/lib/python3.7/site-packages/sklearn/linear_model/sag.py:334: ConvergenceWarning: The max_iter was reached which means the coef_ did not converge\n",
      "  \"the coef_ did not converge\", ConvergenceWarning)\n",
      "/opt/anaconda/lib/python3.7/site-packages/sklearn/linear_model/sag.py:334: ConvergenceWarning: The max_iter was reached which means the coef_ did not converge\n",
      "  \"the coef_ did not converge\", ConvergenceWarning)\n",
      "/opt/anaconda/lib/python3.7/site-packages/sklearn/linear_model/sag.py:334: ConvergenceWarning: The max_iter was reached which means the coef_ did not converge\n",
      "  \"the coef_ did not converge\", ConvergenceWarning)\n",
      "/opt/anaconda/lib/python3.7/site-packages/sklearn/linear_model/sag.py:334: ConvergenceWarning: The max_iter was reached which means the coef_ did not converge\n",
      "  \"the coef_ did not converge\", ConvergenceWarning)\n",
      "/opt/anaconda/lib/python3.7/site-packages/sklearn/linear_model/sag.py:334: ConvergenceWarning: The max_iter was reached which means the coef_ did not converge\n",
      "  \"the coef_ did not converge\", ConvergenceWarning)\n",
      "/opt/anaconda/lib/python3.7/site-packages/sklearn/linear_model/sag.py:334: ConvergenceWarning: The max_iter was reached which means the coef_ did not converge\n",
      "  \"the coef_ did not converge\", ConvergenceWarning)\n",
      "/opt/anaconda/lib/python3.7/site-packages/sklearn/linear_model/sag.py:334: ConvergenceWarning: The max_iter was reached which means the coef_ did not converge\n",
      "  \"the coef_ did not converge\", ConvergenceWarning)\n",
      "/opt/anaconda/lib/python3.7/site-packages/sklearn/linear_model/sag.py:334: ConvergenceWarning: The max_iter was reached which means the coef_ did not converge\n",
      "  \"the coef_ did not converge\", ConvergenceWarning)\n",
      "/opt/anaconda/lib/python3.7/site-packages/sklearn/linear_model/sag.py:334: ConvergenceWarning: The max_iter was reached which means the coef_ did not converge\n",
      "  \"the coef_ did not converge\", ConvergenceWarning)\n",
      "/opt/anaconda/lib/python3.7/site-packages/sklearn/linear_model/sag.py:334: ConvergenceWarning: The max_iter was reached which means the coef_ did not converge\n",
      "  \"the coef_ did not converge\", ConvergenceWarning)\n",
      "/opt/anaconda/lib/python3.7/site-packages/sklearn/linear_model/sag.py:334: ConvergenceWarning: The max_iter was reached which means the coef_ did not converge\n",
      "  \"the coef_ did not converge\", ConvergenceWarning)\n",
      "/opt/anaconda/lib/python3.7/site-packages/sklearn/linear_model/sag.py:334: ConvergenceWarning: The max_iter was reached which means the coef_ did not converge\n",
      "  \"the coef_ did not converge\", ConvergenceWarning)\n",
      "/opt/anaconda/lib/python3.7/site-packages/sklearn/linear_model/sag.py:334: ConvergenceWarning: The max_iter was reached which means the coef_ did not converge\n",
      "  \"the coef_ did not converge\", ConvergenceWarning)\n",
      "/opt/anaconda/lib/python3.7/site-packages/sklearn/linear_model/sag.py:334: ConvergenceWarning: The max_iter was reached which means the coef_ did not converge\n",
      "  \"the coef_ did not converge\", ConvergenceWarning)\n",
      "/opt/anaconda/lib/python3.7/site-packages/sklearn/linear_model/sag.py:334: ConvergenceWarning: The max_iter was reached which means the coef_ did not converge\n",
      "  \"the coef_ did not converge\", ConvergenceWarning)\n",
      "/opt/anaconda/lib/python3.7/site-packages/sklearn/linear_model/sag.py:334: ConvergenceWarning: The max_iter was reached which means the coef_ did not converge\n",
      "  \"the coef_ did not converge\", ConvergenceWarning)\n",
      "/opt/anaconda/lib/python3.7/site-packages/sklearn/linear_model/sag.py:334: ConvergenceWarning: The max_iter was reached which means the coef_ did not converge\n",
      "  \"the coef_ did not converge\", ConvergenceWarning)\n",
      "/opt/anaconda/lib/python3.7/site-packages/sklearn/linear_model/sag.py:334: ConvergenceWarning: The max_iter was reached which means the coef_ did not converge\n",
      "  \"the coef_ did not converge\", ConvergenceWarning)\n",
      "/opt/anaconda/lib/python3.7/site-packages/sklearn/linear_model/sag.py:334: ConvergenceWarning: The max_iter was reached which means the coef_ did not converge\n",
      "  \"the coef_ did not converge\", ConvergenceWarning)\n",
      "/opt/anaconda/lib/python3.7/site-packages/sklearn/linear_model/sag.py:334: ConvergenceWarning: The max_iter was reached which means the coef_ did not converge\n",
      "  \"the coef_ did not converge\", ConvergenceWarning)\n",
      "/opt/anaconda/lib/python3.7/site-packages/sklearn/linear_model/sag.py:334: ConvergenceWarning: The max_iter was reached which means the coef_ did not converge\n",
      "  \"the coef_ did not converge\", ConvergenceWarning)\n",
      "/opt/anaconda/lib/python3.7/site-packages/sklearn/linear_model/sag.py:334: ConvergenceWarning: The max_iter was reached which means the coef_ did not converge\n",
      "  \"the coef_ did not converge\", ConvergenceWarning)\n",
      "/opt/anaconda/lib/python3.7/site-packages/sklearn/linear_model/sag.py:334: ConvergenceWarning: The max_iter was reached which means the coef_ did not converge\n",
      "  \"the coef_ did not converge\", ConvergenceWarning)\n",
      "/opt/anaconda/lib/python3.7/site-packages/sklearn/linear_model/sag.py:334: ConvergenceWarning: The max_iter was reached which means the coef_ did not converge\n",
      "  \"the coef_ did not converge\", ConvergenceWarning)\n",
      "/opt/anaconda/lib/python3.7/site-packages/sklearn/linear_model/sag.py:334: ConvergenceWarning: The max_iter was reached which means the coef_ did not converge\n",
      "  \"the coef_ did not converge\", ConvergenceWarning)\n",
      "/opt/anaconda/lib/python3.7/site-packages/sklearn/linear_model/sag.py:334: ConvergenceWarning: The max_iter was reached which means the coef_ did not converge\n",
      "  \"the coef_ did not converge\", ConvergenceWarning)\n",
      "/opt/anaconda/lib/python3.7/site-packages/sklearn/linear_model/sag.py:334: ConvergenceWarning: The max_iter was reached which means the coef_ did not converge\n",
      "  \"the coef_ did not converge\", ConvergenceWarning)\n",
      "/opt/anaconda/lib/python3.7/site-packages/sklearn/linear_model/sag.py:334: ConvergenceWarning: The max_iter was reached which means the coef_ did not converge\n",
      "  \"the coef_ did not converge\", ConvergenceWarning)\n",
      "/opt/anaconda/lib/python3.7/site-packages/sklearn/linear_model/sag.py:334: ConvergenceWarning: The max_iter was reached which means the coef_ did not converge\n",
      "  \"the coef_ did not converge\", ConvergenceWarning)\n",
      "/opt/anaconda/lib/python3.7/site-packages/sklearn/linear_model/sag.py:334: ConvergenceWarning: The max_iter was reached which means the coef_ did not converge\n",
      "  \"the coef_ did not converge\", ConvergenceWarning)\n",
      "/opt/anaconda/lib/python3.7/site-packages/sklearn/linear_model/sag.py:334: ConvergenceWarning: The max_iter was reached which means the coef_ did not converge\n",
      "  \"the coef_ did not converge\", ConvergenceWarning)\n",
      "/opt/anaconda/lib/python3.7/site-packages/sklearn/linear_model/sag.py:334: ConvergenceWarning: The max_iter was reached which means the coef_ did not converge\n",
      "  \"the coef_ did not converge\", ConvergenceWarning)\n",
      "/opt/anaconda/lib/python3.7/site-packages/sklearn/linear_model/sag.py:334: ConvergenceWarning: The max_iter was reached which means the coef_ did not converge\n",
      "  \"the coef_ did not converge\", ConvergenceWarning)\n",
      "/opt/anaconda/lib/python3.7/site-packages/sklearn/linear_model/sag.py:334: ConvergenceWarning: The max_iter was reached which means the coef_ did not converge\n",
      "  \"the coef_ did not converge\", ConvergenceWarning)\n"
     ]
    },
    {
     "name": "stdout",
     "output_type": "stream",
     "text": [
      "{'C': 1.0, 'solver': 'newton-cg'}\n",
      "0.797979797979798\n"
     ]
    }
   ],
   "source": [
    "### YOUR CODE HERE\n",
    "from sklearn.linear_model import LogisticRegression\n",
    "from sklearn.model_selection import GridSearchCV\n",
    "clf = LogisticRegression(multi_class = 'multinomial', solver = 'lbfgs')\n",
    "\n",
    "clf.fit(X_train, y_train)\n",
    "print('default', clf.score(X_test, y_test))\n",
    "\n",
    "param_grid = {'solver' :  ['newton-cg', 'sag', 'saga', 'lbfgs'], 'C' : np.linspace(0.01, 1, 10)}\n",
    "grid_search = GridSearchCV(clf, param_grid).fit(X_train, y_train)\n",
    "print(grid_search.best_params_)\n",
    "print(grid_search.score(X_test, y_test))"
   ]
  },
  {
   "cell_type": "code",
   "execution_count": 8,
   "metadata": {},
   "outputs": [
    {
     "name": "stdout",
     "output_type": "stream",
     "text": [
      "test_accuracy:  0.797979797979798\n"
     ]
    },
    {
     "data": {
      "image/png": "[encoded data removed]",
      "text/plain": [
       "<Figure size 432x288 with 1 Axes>"
      ]
     },
     "metadata": {
      "needs_background": "light"
     },
     "output_type": "display_data"
    },
    {
     "name": "stdout",
     "output_type": "stream",
     "text": [
      "f1_score (4 classes):  [0.95061728 0.92105263 0.66666667 0.61764706]\n"
     ]
    }
   ],
   "source": [
    "best_linear_clf = LogisticRegression(C = grid_search.best_params_['C'],\n",
    "                                solver = grid_search.best_params_['solver'],\n",
    "                                multi_class = 'multinomial')\n",
    "best_linear_clf.fit(X_train, y_train)\n",
    "\n",
    "from sklearn.metrics import roc_curve\n",
    "from sklearn.metrics import f1_score\n",
    "print(\"test_accuracy: \", best_linear_clf.score(X_test, y_test))\n",
    "\n",
    "roc_ret = []\n",
    "def show_roc_curve(best_clf, X_test, y_test):\n",
    "    y_true = y_test\n",
    "    y_pred = best_clf.predict_proba(X_test)\n",
    "\n",
    "    for i in range(4):\n",
    "        roc_ret.append(roc_curve(y_true, y_pred[:, i], pos_label = i))\n",
    "        \n",
    "    plt.figure()\n",
    "    plt.plot(roc_ret[0][0], roc_ret[0][1], color='darkorange', label='ROC curve0')\n",
    "    plt.plot(roc_ret[1][0], roc_ret[1][1], color='red', label='ROC curve1')\n",
    "    plt.plot(roc_ret[2][0], roc_ret[2][1], color='green', label='ROC curve2')\n",
    "    plt.plot(roc_ret[3][0], roc_ret[3][1], color='blue', label='ROC curve3')\n",
    "    plt.plot([0, 1], [0, 1], color='navy', linestyle='--')\n",
    "\n",
    "    plt.xlabel('False Positive Rate')\n",
    "    plt.ylabel('True Positive Rate')\n",
    "    plt.title('Receiver operating characteristic')\n",
    "    plt.legend(loc=\"lower right\")\n",
    "    plt.show()\n",
    "    \n",
    "    y_pred_classes = best_clf.predict(X_test)\n",
    "    print(\"f1_score (4 classes): \", f1_score(y_true, y_pred_classes, average = None))\n",
    "\n",
    "show_roc_curve(best_linear_clf, X_test, y_test)"
   ]
  },
  {
   "cell_type": "markdown",
   "metadata": {},
   "source": [
    "#### 2.2. Зависимость объясненной дисперсии от числа главных компонент.\n",
    "Воспользуемся методом главных компонент (PCA). \n",
    "\n",
    "Примените его к train-части данных.\n",
    "Постройте график зависимости объясненной дисперсии (explained variance ratio) от количества главных компонент."
   ]
  },
  {
   "cell_type": "code",
   "execution_count": 9,
   "metadata": {
    "nbgrader": {
     "grade": true,
     "grade_id": "cell-c6c614740bce090e",
     "locked": false,
     "points": 10,
     "schema_version": 2,
     "solution": true
    }
   },
   "outputs": [
    {
     "name": "stdout",
     "output_type": "stream",
     "text": [
      "[0.5072832418857692, 0.6684327808098296, 0.7470303834982456, 0.8136773006280948, 0.8671150811489737, 0.9155057359180118, 0.9449484911885273, 0.9637786442967354, 0.9757313998802837, 0.9847395965754218, 0.9895161853825206, 0.9927515442976438, 0.9950926415814912, 0.9969242754722429, 0.9981168912342098, 0.9989684798699551, 0.9996516223829203, 0.9999801188480858, 0.9999999999999999]\n"
     ]
    }
   ],
   "source": [
    "### YOUR CODE HERE\n",
    "from sklearn.decomposition import PCA\n",
    "\n",
    "ratios = []\n",
    "for i in range(1, 20, 1):\n",
    "    pca = PCA(n_components = i)\n",
    "    pca.fit(X_train)\n",
    "    ratios.append(pca.explained_variance_ratio_)\n",
    "    ratios[i-1] = sum(ratios[i-1])\n",
    "    \n",
    "print(ratios)"
   ]
  },
  {
   "cell_type": "code",
   "execution_count": 10,
   "metadata": {},
   "outputs": [
    {
     "data": {
      "image/png": "[encoded data removed]",
      "text/plain": [
       "<Figure size 432x288 with 1 Axes>"
      ]
     },
     "metadata": {
      "needs_background": "light"
     },
     "output_type": "display_data"
    }
   ],
   "source": [
    "plt.figure()\n",
    "plt.plot([i for i in range(1, 20, 1)], ratios)\n",
    "plt.plot([i for i in range(1, 20, 1)], [0.95 for i in range(1, 20, 1)], label = 'evr=0.95')\n",
    "\n",
    "plt.xlabel('n_components')\n",
    "plt.ylabel('explained variance ratio')\n",
    "\n",
    "plt.legend(loc=\"lower right\")\n",
    "plt.show()"
   ]
  },
  {
   "cell_type": "markdown",
   "metadata": {
    "nbgrader": {
     "grade": false,
     "grade_id": "cell-0c1fe666f52fe53c",
     "locked": true,
     "schema_version": 2,
     "solution": false
    }
   },
   "source": [
    "#### 2.3. Преобразование с помощью PCA.\n",
    "Выберите определенное число компонент. Кратко опишите, чем обусловлен ваш выбор.\n",
    "\n",
    "Используя эти главные компоненты, преобразуйте train и test выборки (используя методы `fit` и `transform`)."
   ]
  },
  {
   "cell_type": "code",
   "execution_count": 11,
   "metadata": {
    "nbgrader": {
     "grade": true,
     "grade_id": "cell-96ab18d96473ef71",
     "locked": false,
     "points": 5,
     "schema_version": 2,
     "solution": true
    }
   },
   "outputs": [
    {
     "name": "stdout",
     "output_type": "stream",
     "text": [
      "(549, 19)\n",
      "(549, 10)\n",
      "(297, 10)\n"
     ]
    }
   ],
   "source": [
    "### YOUR CODE HERE\n",
    "pca = PCA(n_components = 10)\n",
    "print(X_train.shape)\n",
    "X_train_norm = X_train\n",
    "X_test_norm = X_test\n",
    "X_train = pca.fit_transform(X_train)\n",
    "X_test = pca.transform(X_test)\n",
    "print(X_train.shape)\n",
    "print(X_test.shape)"
   ]
  },
  {
   "cell_type": "markdown",
   "metadata": {
    "nbgrader": {
     "grade": false,
     "grade_id": "cell-d28b58a35c94e988",
     "locked": true,
     "schema_version": 2,
     "solution": false
    }
   },
   "source": [
    "#### 2.4. Логистическая регрессия над преобразованными данными.\n",
    "* Подберите оптимальные параметры логистической регресии с помощью кросс-валидации на преобразованном train-датасете.\n",
    "\n",
    "* Постройте график ROC-кривой для полученных классификаторов, оцените точность классификации и f1-score. "
   ]
  },
  {
   "cell_type": "code",
   "execution_count": 12,
   "metadata": {
    "nbgrader": {
     "grade": true,
     "grade_id": "cell-12d53ea45258fa82",
     "locked": false,
     "points": 5,
     "schema_version": 2,
     "solution": true
    }
   },
   "outputs": [
    {
     "name": "stdout",
     "output_type": "stream",
     "text": [
      "default 0.7171717171717171\n"
     ]
    },
    {
     "name": "stderr",
     "output_type": "stream",
     "text": [
      "/opt/anaconda/lib/python3.7/site-packages/sklearn/model_selection/_split.py:2053: FutureWarning: You should specify a value for 'cv' instead of relying on the default value. The default value will change from 3 to 5 in version 0.22.\n",
      "  warnings.warn(CV_WARNING, FutureWarning)\n",
      "/opt/anaconda/lib/python3.7/site-packages/sklearn/linear_model/sag.py:334: ConvergenceWarning: The max_iter was reached which means the coef_ did not converge\n",
      "  \"the coef_ did not converge\", ConvergenceWarning)\n",
      "/opt/anaconda/lib/python3.7/site-packages/sklearn/linear_model/sag.py:334: ConvergenceWarning: The max_iter was reached which means the coef_ did not converge\n",
      "  \"the coef_ did not converge\", ConvergenceWarning)\n",
      "/opt/anaconda/lib/python3.7/site-packages/sklearn/linear_model/sag.py:334: ConvergenceWarning: The max_iter was reached which means the coef_ did not converge\n",
      "  \"the coef_ did not converge\", ConvergenceWarning)\n",
      "/opt/anaconda/lib/python3.7/site-packages/sklearn/linear_model/sag.py:334: ConvergenceWarning: The max_iter was reached which means the coef_ did not converge\n",
      "  \"the coef_ did not converge\", ConvergenceWarning)\n",
      "/opt/anaconda/lib/python3.7/site-packages/sklearn/linear_model/sag.py:334: ConvergenceWarning: The max_iter was reached which means the coef_ did not converge\n",
      "  \"the coef_ did not converge\", ConvergenceWarning)\n",
      "/opt/anaconda/lib/python3.7/site-packages/sklearn/linear_model/sag.py:334: ConvergenceWarning: The max_iter was reached which means the coef_ did not converge\n",
      "  \"the coef_ did not converge\", ConvergenceWarning)\n",
      "/opt/anaconda/lib/python3.7/site-packages/sklearn/linear_model/sag.py:334: ConvergenceWarning: The max_iter was reached which means the coef_ did not converge\n",
      "  \"the coef_ did not converge\", ConvergenceWarning)\n",
      "/opt/anaconda/lib/python3.7/site-packages/sklearn/linear_model/sag.py:334: ConvergenceWarning: The max_iter was reached which means the coef_ did not converge\n",
      "  \"the coef_ did not converge\", ConvergenceWarning)\n",
      "/opt/anaconda/lib/python3.7/site-packages/sklearn/linear_model/sag.py:334: ConvergenceWarning: The max_iter was reached which means the coef_ did not converge\n",
      "  \"the coef_ did not converge\", ConvergenceWarning)\n",
      "/opt/anaconda/lib/python3.7/site-packages/sklearn/linear_model/sag.py:334: ConvergenceWarning: The max_iter was reached which means the coef_ did not converge\n",
      "  \"the coef_ did not converge\", ConvergenceWarning)\n",
      "/opt/anaconda/lib/python3.7/site-packages/sklearn/linear_model/sag.py:334: ConvergenceWarning: The max_iter was reached which means the coef_ did not converge\n",
      "  \"the coef_ did not converge\", ConvergenceWarning)\n",
      "/opt/anaconda/lib/python3.7/site-packages/sklearn/linear_model/sag.py:334: ConvergenceWarning: The max_iter was reached which means the coef_ did not converge\n",
      "  \"the coef_ did not converge\", ConvergenceWarning)\n",
      "/opt/anaconda/lib/python3.7/site-packages/sklearn/linear_model/sag.py:334: ConvergenceWarning: The max_iter was reached which means the coef_ did not converge\n",
      "  \"the coef_ did not converge\", ConvergenceWarning)\n",
      "/opt/anaconda/lib/python3.7/site-packages/sklearn/linear_model/sag.py:334: ConvergenceWarning: The max_iter was reached which means the coef_ did not converge\n",
      "  \"the coef_ did not converge\", ConvergenceWarning)\n",
      "/opt/anaconda/lib/python3.7/site-packages/sklearn/linear_model/sag.py:334: ConvergenceWarning: The max_iter was reached which means the coef_ did not converge\n",
      "  \"the coef_ did not converge\", ConvergenceWarning)\n",
      "/opt/anaconda/lib/python3.7/site-packages/sklearn/linear_model/sag.py:334: ConvergenceWarning: The max_iter was reached which means the coef_ did not converge\n",
      "  \"the coef_ did not converge\", ConvergenceWarning)\n",
      "/opt/anaconda/lib/python3.7/site-packages/sklearn/linear_model/sag.py:334: ConvergenceWarning: The max_iter was reached which means the coef_ did not converge\n",
      "  \"the coef_ did not converge\", ConvergenceWarning)\n",
      "/opt/anaconda/lib/python3.7/site-packages/sklearn/linear_model/sag.py:334: ConvergenceWarning: The max_iter was reached which means the coef_ did not converge\n",
      "  \"the coef_ did not converge\", ConvergenceWarning)\n",
      "/opt/anaconda/lib/python3.7/site-packages/sklearn/linear_model/sag.py:334: ConvergenceWarning: The max_iter was reached which means the coef_ did not converge\n",
      "  \"the coef_ did not converge\", ConvergenceWarning)\n",
      "/opt/anaconda/lib/python3.7/site-packages/sklearn/linear_model/sag.py:334: ConvergenceWarning: The max_iter was reached which means the coef_ did not converge\n",
      "  \"the coef_ did not converge\", ConvergenceWarning)\n",
      "/opt/anaconda/lib/python3.7/site-packages/sklearn/linear_model/sag.py:334: ConvergenceWarning: The max_iter was reached which means the coef_ did not converge\n",
      "  \"the coef_ did not converge\", ConvergenceWarning)\n",
      "/opt/anaconda/lib/python3.7/site-packages/sklearn/linear_model/sag.py:334: ConvergenceWarning: The max_iter was reached which means the coef_ did not converge\n",
      "  \"the coef_ did not converge\", ConvergenceWarning)\n",
      "/opt/anaconda/lib/python3.7/site-packages/sklearn/linear_model/sag.py:334: ConvergenceWarning: The max_iter was reached which means the coef_ did not converge\n",
      "  \"the coef_ did not converge\", ConvergenceWarning)\n",
      "/opt/anaconda/lib/python3.7/site-packages/sklearn/linear_model/sag.py:334: ConvergenceWarning: The max_iter was reached which means the coef_ did not converge\n",
      "  \"the coef_ did not converge\", ConvergenceWarning)\n",
      "/opt/anaconda/lib/python3.7/site-packages/sklearn/linear_model/sag.py:334: ConvergenceWarning: The max_iter was reached which means the coef_ did not converge\n",
      "  \"the coef_ did not converge\", ConvergenceWarning)\n",
      "/opt/anaconda/lib/python3.7/site-packages/sklearn/linear_model/sag.py:334: ConvergenceWarning: The max_iter was reached which means the coef_ did not converge\n",
      "  \"the coef_ did not converge\", ConvergenceWarning)\n"
     ]
    },
    {
     "name": "stdout",
     "output_type": "stream",
     "text": [
      "{'C': 0.45, 'solver': 'newton-cg'}\n",
      "0.7205387205387206\n"
     ]
    }
   ],
   "source": [
    "### YOUR CODE HERE\n",
    "clf = LogisticRegression(multi_class = 'multinomial', solver = 'lbfgs')\n",
    "\n",
    "clf.fit(X_train, y_train)\n",
    "print('default', clf.score(X_test, y_test))\n",
    "\n",
    "param_grid = {'solver' :  ['newton-cg', 'sag', 'saga', 'lbfgs'], 'C' : np.linspace(0.01, 1, 10)}\n",
    "grid_search = GridSearchCV(clf, param_grid).fit(X_train, y_train)\n",
    "print(grid_search.best_params_)\n",
    "print(grid_search.score(X_test, y_test))"
   ]
  },
  {
   "cell_type": "code",
   "execution_count": 13,
   "metadata": {},
   "outputs": [
    {
     "name": "stdout",
     "output_type": "stream",
     "text": [
      "test_accuracy:  0.7205387205387206\n"
     ]
    },
    {
     "data": {
      "image/png": "[encoded data removed]",
      "text/plain": [
       "<Figure size 432x288 with 1 Axes>"
      ]
     },
     "metadata": {
      "needs_background": "light"
     },
     "output_type": "display_data"
    },
    {
     "name": "stdout",
     "output_type": "stream",
     "text": [
      "f1_score (4 classes):  [0.88622754 0.86075949 0.55714286 0.51162791]\n"
     ]
    }
   ],
   "source": [
    "best_clf = LogisticRegression(C = grid_search.best_params_['C'],\n",
    "                                solver = grid_search.best_params_['solver'],\n",
    "                                multi_class = 'multinomial')\n",
    "best_clf.fit(X_train, y_train)\n",
    "\n",
    "from sklearn.metrics import roc_curve\n",
    "print(\"test_accuracy: \", best_clf.score(X_test, y_test))\n",
    "\n",
    "roc_ret = []\n",
    "\n",
    "show_roc_curve(best_clf, X_test, y_test)\n"
   ]
  },
  {
   "cell_type": "markdown",
   "metadata": {
    "nbgrader": {
     "grade": false,
     "grade_id": "cell-4fbf16c64076e139",
     "locked": true,
     "schema_version": 2,
     "solution": false
    }
   },
   "source": [
    "#### 2.5. Решающее дерево.\n",
    "Рассмотрим поведение решающего дерева на исходных и преобразованных данных. Будем варьировать лишь один параметр - максимальную глубину дерева. \n",
    "\n",
    "* С помощью кросс-валидации подберите оптимальный параметр `max_depth` и оцените на исходных и преобразованных данных те же метрики, что и выше."
   ]
  },
  {
   "cell_type": "code",
   "execution_count": 14,
   "metadata": {
    "nbgrader": {
     "grade": true,
     "grade_id": "cell-748ed20b51c67fab",
     "locked": false,
     "points": 15,
     "schema_version": 2,
     "solution": true
    }
   },
   "outputs": [
    {
     "name": "stdout",
     "output_type": "stream",
     "text": [
      "default 0.7171717171717171\n"
     ]
    },
    {
     "name": "stderr",
     "output_type": "stream",
     "text": [
      "/opt/anaconda/lib/python3.7/site-packages/sklearn/model_selection/_split.py:2053: FutureWarning: You should specify a value for 'cv' instead of relying on the default value. The default value will change from 3 to 5 in version 0.22.\n",
      "  warnings.warn(CV_WARNING, FutureWarning)\n"
     ]
    },
    {
     "name": "stdout",
     "output_type": "stream",
     "text": [
      "{'max_depth': 5}\n",
      "0.67003367003367\n"
     ]
    }
   ],
   "source": [
    "from sklearn.tree import DecisionTreeClassifier\n",
    "\n",
    "# YOUR CODE HERE\n",
    "clf = DecisionTreeClassifier()\n",
    "\n",
    "clf.fit(X_train_norm, y_train)\n",
    "print('default', clf.score(X_test_norm, y_test))\n",
    "\n",
    "param_grid = {'max_depth' : range(1, 200, 1)}\n",
    "grid_search = GridSearchCV(clf, param_grid).fit(X_train_norm, y_train)\n",
    "print(grid_search.best_params_)\n",
    "print(grid_search.score(X_test_norm, y_test))"
   ]
  },
  {
   "cell_type": "code",
   "execution_count": 15,
   "metadata": {},
   "outputs": [
    {
     "name": "stdout",
     "output_type": "stream",
     "text": [
      "test_accuracy:  0.6666666666666666\n"
     ]
    },
    {
     "data": {
      "image/png": "[encoded data removed]",
      "text/plain": [
       "<Figure size 432x288 with 1 Axes>"
      ]
     },
     "metadata": {
      "needs_background": "light"
     },
     "output_type": "display_data"
    },
    {
     "name": "stdout",
     "output_type": "stream",
     "text": [
      "f1_score (4 classes):  [0.83435583 0.90666667 0.42647059 0.45517241]\n"
     ]
    }
   ],
   "source": [
    "best_tree_clf = DecisionTreeClassifier(max_depth = grid_search.best_params_['max_depth'])\n",
    "best_tree_clf.fit(X_train_norm, y_train)\n",
    "\n",
    "from sklearn.metrics import roc_curve\n",
    "print(\"test_accuracy: \", best_tree_clf.score(X_test_norm, y_test))\n",
    "\n",
    "roc_ret = []\n",
    "\n",
    "show_roc_curve(best_tree_clf, X_test_norm, y_test)\n"
   ]
  },
  {
   "cell_type": "code",
   "execution_count": 16,
   "metadata": {},
   "outputs": [
    {
     "name": "stdout",
     "output_type": "stream",
     "text": [
      "default 0.6262626262626263\n"
     ]
    },
    {
     "name": "stderr",
     "output_type": "stream",
     "text": [
      "/opt/anaconda/lib/python3.7/site-packages/sklearn/model_selection/_split.py:2053: FutureWarning: You should specify a value for 'cv' instead of relying on the default value. The default value will change from 3 to 5 in version 0.22.\n",
      "  warnings.warn(CV_WARNING, FutureWarning)\n"
     ]
    },
    {
     "name": "stdout",
     "output_type": "stream",
     "text": [
      "{'max_depth': 122}\n",
      "0.6127946127946128\n"
     ]
    }
   ],
   "source": [
    "clf = DecisionTreeClassifier()\n",
    "\n",
    "clf.fit(X_train, y_train)\n",
    "print('default', clf.score(X_test, y_test))\n",
    "\n",
    "param_grid = {'max_depth' : range(1, 200, 1)}\n",
    "grid_search = GridSearchCV(clf, param_grid).fit(X_train, y_train)\n",
    "print(grid_search.best_params_)\n",
    "print(grid_search.score(X_test, y_test))"
   ]
  },
  {
   "cell_type": "code",
   "execution_count": 17,
   "metadata": {},
   "outputs": [
    {
     "name": "stdout",
     "output_type": "stream",
     "text": [
      "test_accuracy:  0.6296296296296297\n"
     ]
    },
    {
     "data": {
      "image/png": "[encoded data removed]",
      "text/plain": [
       "<Figure size 432x288 with 1 Axes>"
      ]
     },
     "metadata": {
      "needs_background": "light"
     },
     "output_type": "display_data"
    },
    {
     "name": "stdout",
     "output_type": "stream",
     "text": [
      "f1_score (4 classes):  [0.73611111 0.79245283 0.49295775 0.48322148]\n"
     ]
    }
   ],
   "source": [
    "best_clf = DecisionTreeClassifier(max_depth = grid_search.best_params_['max_depth'])\n",
    "best_clf.fit(X_train, y_train)\n",
    "\n",
    "from sklearn.metrics import roc_curve\n",
    "print(\"test_accuracy: \", best_clf.score(X_test, y_test))\n",
    "\n",
    "roc_ret = []\n",
    "\n",
    "show_roc_curve(best_clf, X_test, y_test)"
   ]
  },
  {
   "cell_type": "markdown",
   "metadata": {
    "nbgrader": {
     "grade": false,
     "grade_id": "cell-9eadd4d8a03ae67a",
     "locked": true,
     "schema_version": 2,
     "solution": false
    }
   },
   "source": [
    "#### 2.6. Bagging.\n",
    "Перейдем к ансамблям. \n",
    "\n",
    "Для построения ансамбля воспользуемся Bagging'ом с числом алгоритмов от 2 до 50. В качестве первого семейства базовых алгоримтов будем использовать линейные модели (т.е. логистическую регрессию), в качестве второго - решающие деревья. \n",
    "\n",
    "*Пояснение: Будем строить ансамбль только из моделей из одного семейства, т.е. логистическая регрессия не смешивается с решающими деревьями.*\n",
    "\n",
    "Для этого можно сгенерировать с помощью метода bootstrap 50 подвыборок из `train` выборки (того же размера, что и исходная), обучить логистическую регрессию и решающее дерево с оптимальными параметрами из предыдущего пункта на каждой из подвыборок и затем усреднить предсказания k моделей.\n",
    "\n",
    "*Hint: в sklearn может найтись подходящая функция, которая облегчит вам реализацию данного пункта.*\n",
    "\n",
    "* Постройте график качества классификации и f1-score на `train` и `test` датасетах в зависимости от числа алгоритмов, вошедших в ансамбль.\n",
    "\n",
    "* Проанализируйте график. Какое количество моделей стоит использовать? Как вы думаете, являются ли параметры решающего дерева, подобранные в предыдущем пункте оптимальными в данном случае?"
   ]
  },
  {
   "cell_type": "code",
   "execution_count": 18,
   "metadata": {
    "nbgrader": {
     "grade": true,
     "grade_id": "cell-8fc95a2b206bdae1",
     "locked": false,
     "points": 35,
     "schema_version": 2,
     "solution": true
    }
   },
   "outputs": [],
   "source": [
    "# YOUR CODE HERE\n",
    "from sklearn.ensemble import BaggingClassifier\n",
    "linear_clf_s = []\n",
    "tree_clf_s = []\n",
    "for i in range(2, 51, 2):\n",
    "    linear_clf_s.append(BaggingClassifier(base_estimator = best_linear_clf, n_estimators = i))\n",
    "    tree_clf_s.append(BaggingClassifier(base_estimator = best_tree_clf, n_estimators = i))\n",
    "\n",
    "#linear\n",
    "train_lin_scores = []\n",
    "test_lin_scores = []\n",
    "train_lin_f1_scores = []\n",
    "test_lin_f1_scores = []\n",
    "for clf in linear_clf_s:\n",
    "    clf.fit(X_train_norm, y_train)\n",
    "    train_lin_scores.append(clf.score(X_train_norm, y_train))\n",
    "    test_lin_scores.append(clf.score(X_test_norm, y_test))\n",
    "    \n",
    "    train_lin_f1_scores.append(f1_score(y_train, clf.predict(X_train_norm), average = None))\n",
    "    test_lin_f1_scores.append(f1_score(y_test, clf.predict(X_test_norm), average = None))\n",
    "    \n",
    "#tree\n",
    "train_tree_scores = []\n",
    "test_tree_scores = []\n",
    "train_tree_f1_scores = []\n",
    "test_tree_f1_scores = []\n",
    "for clf in tree_clf_s:\n",
    "    clf.fit(X_train_norm, y_train)\n",
    "    train_tree_scores.append(clf.score(X_train_norm, y_train))\n",
    "    test_tree_scores.append(clf.score(X_test_norm, y_test))\n",
    "    \n",
    "    train_tree_f1_scores.append(f1_score(y_train, clf.predict(X_train_norm), average = None))\n",
    "    test_tree_f1_scores.append(f1_score(y_test, clf.predict(X_test_norm), average = None))"
   ]
  },
  {
   "cell_type": "code",
   "execution_count": 19,
   "metadata": {},
   "outputs": [
    {
     "data": {
      "image/png": "[encoded data removed]",
      "text/plain": [
       "<Figure size 432x288 with 1 Axes>"
      ]
     },
     "metadata": {
      "needs_background": "light"
     },
     "output_type": "display_data"
    }
   ],
   "source": [
    "plt.figure()\n",
    "plt.plot(np.linspace(0, 50, 25), train_lin_scores, color='red', label = 'train_lin')\n",
    "plt.plot(np.linspace(0, 50, 25), train_tree_scores, color='orange', label = 'train_tree')\n",
    "plt.plot(np.linspace(0, 50, 25), test_tree_scores, color='green', label = 'test_tree')\n",
    "plt.plot(np.linspace(0, 50, 25), test_lin_scores, color='blue', label = 'test_lin')\n",
    "\n",
    "plt.xlabel('n_algs')\n",
    "plt.ylabel('accuracy score')\n",
    "plt.title('Accuracy (n)')\n",
    "plt.legend(loc=\"lower right\")\n",
    "plt.show()"
   ]
  },
  {
   "cell_type": "code",
   "execution_count": 36,
   "metadata": {},
   "outputs": [
    {
     "name": "stdout",
     "output_type": "stream",
     "text": [
      "25\n"
     ]
    },
    {
     "data": {
      "image/png": "[encoded data removed]",
      "text/plain": [
       "<Figure size 432x288 with 1 Axes>"
      ]
     },
     "metadata": {
      "needs_background": "light"
     },
     "output_type": "display_data"
    }
   ],
   "source": [
    "train_lin_f1_scores = np.array(train_lin_f1_scores)\n",
    "test_lin_f1_scores = np.array(test_lin_f1_scores)\n",
    "train_tree_f1_scores = np.array(train_tree_f1_scores)\n",
    "test_tree_f1_scores = np.array(test_tree_f1_scores)\n",
    "\n",
    "plt.figure()\n",
    "print(len(train_lin_f1_scores))\n",
    "plt.plot(np.linspace(0, 50, 25), train_lin_f1_scores[:, 0], color='red', label = 'train_lin')\n",
    "plt.plot(np.linspace(0, 50, 25), train_tree_f1_scores[:, 0], color='orange', label = 'train_tree')\n",
    "plt.plot(np.linspace(0, 50, 25), test_tree_f1_scores[:, 0], color='green', label = 'test_tree')\n",
    "plt.plot(np.linspace(0, 50, 25), test_lin_f1_scores[:, 0], color='blue', label = 'test_lin')\n",
    "\n",
    "plt.xlabel('n_algs')\n",
    "plt.ylabel('f1 score')\n",
    "plt.title('F1 score (n) 0 class')\n",
    "plt.legend(loc=\"lower right\")\n",
    "plt.show()"
   ]
  },
  {
   "cell_type": "markdown",
   "metadata": {
    "nbgrader": {
     "grade": false,
     "grade_id": "cell-241b7691ab44cbfb",
     "locked": true,
     "schema_version": 2,
     "solution": false
    }
   },
   "source": [
    "#### 2.7. Random Forest.\n",
    "Теперь воспользуйтесь `sklearn`-реализацией алгоритма Random Forest. \n",
    "\n",
    "* Постройте аналогичные графики для него (изменяя число деревьев от 1 до 50). Остальные параметры можно оставить по умолчанию.\n",
    "\n",
    "* Проанализируйте полученные результаты. Каким получилось оптимальное число деревьев. Как оно соотносится с оптимальным числом деревьев и линейных моделей в bagging'е из предыдущего пункта?"
   ]
  },
  {
   "cell_type": "code",
   "execution_count": 38,
   "metadata": {
    "nbgrader": {
     "grade": true,
     "grade_id": "cell-888755d0f3d91620",
     "locked": false,
     "points": 15,
     "schema_version": 2,
     "solution": true
    }
   },
   "outputs": [
    {
     "data": {
      "image/png": "[encoded data removed]",
      "text/plain": [
       "<Figure size 432x288 with 1 Axes>"
      ]
     },
     "metadata": {
      "needs_background": "light"
     },
     "output_type": "display_data"
    }
   ],
   "source": [
    "from sklearn.ensemble import RandomForestClassifier\n",
    "\n",
    "rf_clf_s = []\n",
    "for i in range(1, 51):\n",
    "    rf_clf_s.append(RandomForestClassifier(n_estimators = i))\n",
    "    \n",
    "train_rf_scores = []\n",
    "test_rf_scores = []\n",
    "train_rf_f1_scores = []\n",
    "test_rf_f1_scores = []\n",
    "for clf in rf_clf_s:\n",
    "    clf.fit(X_train_norm, y_train)\n",
    "    train_rf_scores.append(clf.score(X_train_norm, y_train))\n",
    "    test_rf_scores.append(clf.score(X_test_norm, y_test))\n",
    "    \n",
    "    train_rf_f1_scores.append(f1_score(y_train, clf.predict(X_train_norm), average = None))\n",
    "    test_rf_f1_scores.append(f1_score(y_test, clf.predict(X_test_norm), average = None))\n",
    "    \n",
    "plt.figure()\n",
    "plt.plot(np.linspace(0, 50, 50), train_rf_scores, color='red', label = 'train_rf')\n",
    "plt.plot(np.linspace(0, 50, 50), test_rf_scores, color='orange', label = 'test_rf')\n",
    "\n",
    "plt.xlabel('n_algs')\n",
    "plt.ylabel('accuracy score')\n",
    "plt.title('Score (n)')\n",
    "plt.legend(loc=\"lower right\")\n",
    "plt.show()"
   ]
  },
  {
   "cell_type": "code",
   "execution_count": 40,
   "metadata": {},
   "outputs": [
    {
     "data": {
      "image/png": "[encoded data removed]",
      "text/plain": [
       "<Figure size 432x288 with 1 Axes>"
      ]
     },
     "metadata": {
      "needs_background": "light"
     },
     "output_type": "display_data"
    }
   ],
   "source": [
    "train_rf_f1_scores = np.array(train_rf_f1_scores)\n",
    "test_rf_f1_scores = np.array(test_rf_f1_scores)\n",
    "\n",
    "plt.figure()\n",
    "plt.plot(np.linspace(0, 50, 50), train_rf_f1_scores[:, 0], color='red', label = 'train_rf')\n",
    "plt.plot(np.linspace(0, 50, 50), test_rf_f1_scores[:, 0], color='orange', label = 'test_rf')\n",
    "\n",
    "plt.xlabel('n_algs')\n",
    "plt.ylabel('accuracy score')\n",
    "plt.title('Score (n)')\n",
    "plt.legend(loc=\"lower right\")\n",
    "plt.show()"
   ]
  },
  {
   "cell_type": "markdown",
   "metadata": {
    "nbgrader": {
     "grade": false,
     "grade_id": "cell-99191c0852538d4d",
     "locked": true,
     "schema_version": 2,
     "solution": false
    }
   },
   "source": [
    "#### 2.8. Кривая обучения.\n",
    "* Поделите обучающую выборку на 10 примерно равных частей. Обучите логистическую регрессию (с оптимальными параметрами), решающее дерево (аналогично), бэггинг над логистическими регрессиями и решающими деревьями (с выбранными параметрами) и RandomForest (из предыдущего пункта) на одной, двух, трех и т.д. частях.\n",
    "\n",
    "* Постройти график f1-score и accuracy на `train` и `test` датасетах в зависимости от размера обучающей выборки.\n",
    "\n",
    "* Проанализируйте полученный график. Можно ли сделать из него какие-либо выводы? Если да - кратко опишите их."
   ]
  },
  {
   "cell_type": "code",
   "execution_count": 22,
   "metadata": {
    "nbgrader": {
     "grade": true,
     "grade_id": "cell-e39bc7e7dff61ff9",
     "locked": false,
     "points": 15,
     "schema_version": 2,
     "solution": true
    }
   },
   "outputs": [],
   "source": [
    "# YOUR CODE HERE"
   ]
  },
  {
   "cell_type": "markdown",
   "metadata": {
    "nbgrader": {
     "grade": false,
     "grade_id": "cell-71bd7c04299937c1",
     "locked": true,
     "schema_version": 2,
     "solution": false
    }
   },
   "source": [
    "Вторая часть задания про SVM ждет вас в соседнем ноутбуке."
   ]
  }
 ],
 "metadata": {
  "celltoolbar": "Create Assignment",
  "kernelspec": {
   "display_name": "Python 3",
   "language": "python",
   "name": "python3"
  },
  "language_info": {
   "codemirror_mode": {
    "name": "ipython",
    "version": 3
   },
   "file_extension": ".py",
   "mimetype": "text/x-python",
   "name": "python",
   "nbconvert_exporter": "python",
   "pygments_lexer": "ipython3",
   "version": "3.7.1"
  },
  "toc": {
   "base_numbering": 1,
   "nav_menu": {},
   "number_sections": false,
   "sideBar": true,
   "skip_h1_title": false,
   "title_cell": "Table of Contents",
   "title_sidebar": "Contents",
   "toc_cell": false,
   "toc_position": {},
   "toc_section_display": true,
   "toc_window_display": false
  }
 },
 "nbformat": 4,
 "nbformat_minor": 2
}
